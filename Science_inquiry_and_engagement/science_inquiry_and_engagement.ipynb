{
 "cells": [
  {
   "cell_type": "code",
   "execution_count": 35,
   "metadata": {},
   "outputs": [],
   "source": [
    "import pandas as pd"
   ]
  },
  {
   "cell_type": "code",
   "execution_count": 34,
   "metadata": {},
   "outputs": [],
   "source": [
    "# Read all-word data (.csv)\n",
    "d_allwork_df = pd.read_csv(r'Data/d_all_work.csv')\n",
    "s_allwork_df = pd.read_csv(r'Data/s_all_work.csv')\n",
    "d_event_df = pd.read_csv(r'Data/d_events.csv')\n",
    "s_event_df = pd.read_csv(r'Data/s_events.csv')\n",
    "\n",
    "#d_allwork_df.head(1)\n",
    "#s_allwork_df.head(1)\n",
    "#d_event_df.head(1)\n",
    "#s_event_df.head(1)"
   ]
  },
  {
   "cell_type": "code",
   "execution_count": 33,
   "metadata": {},
   "outputs": [],
   "source": [
    "def get_names(df):\n",
    "    df = df['Student Name 1']\n",
    "    n_list = []\n",
    "    for name in df:\n",
    "        if name not in n_list:\n",
    "            n_list.append(name)\n",
    "    return n_list\n",
    "\n",
    "s_names = get_names(s_allwork_df)\n",
    "d_names = get_names(d_allwork_df)\n",
    "\n",
    "# print(s_names[:10])\n",
    "# print(d_names[:10])"
   ]
  },
  {
   "cell_type": "markdown",
   "metadata": {},
   "source": [
    "# Step 1.6\n",
    "1. Time spends on page 1.6 on the first day; The rest of time spend on page 1.6\n",
    "2. "
   ]
  },
  {
   "cell_type": "code",
   "execution_count": 132,
   "metadata": {},
   "outputs": [
    {
     "name": "stdout",
     "output_type": "stream",
     "text": [
      "[('caifengtian s', {'Before': 120, 'After': 0}), ('yangtianrui s', {'Before': 306, 'After': 0}), ('zhaopeiliang s', {'Before': 192, 'After': 21181}), ('zhaoyuanzhe s', {'Before': 267, 'After': 81308}), ('zhangyuxing s', {'Before': 97, 'After': 0}), ('wuqichen s', {'Before': 274, 'After': 21859}), ('suzihua s', {'Before': 289, 'After': 21598}), ('yuhaoran s', {'Before': 202, 'After': 0}), ('zhangjiale s', {'Before': 318, 'After': 21334}), ('sunjiajun s', {'Before': 240, 'After': 21253}), ('xuanshangxiong s', {'Before': 362, 'After': 0}), ('weixinyao s', {'Before': 660, 'After': 21926}), ('guobin s', {'Before': 531, 'After': -1}), ('weichenxu s', {'Before': 614, 'After': 82077}), ('houkaiyuan s', {'Before': 240, 'After': 81513}), ('zhangzhe s', {'Before': 677, 'After': 0}), ('litianyang s', {'Before': 876, 'After': 80853}), ('baiqifan s', {'Before': 497, 'After': 81577}), ('limingxuan s', {'Before': 325, 'After': 21022}), ('zhangdasheng s', {'Before': 360, 'After': 21854}), ('yinmingyu s', {'Before': 571, 'After': 81586}), ('yuanhaozhe s', {'Before': 351, 'After': 0}), ('liuyiyang s', {'Before': 480, 'After': 22309}), ('zhangjiaxiang s', {'Before': 279, 'After': 81816}), ('shifeng s', {'Before': 364, 'After': 81035}), ('fanjinhong s', {'Before': 325, 'After': 21412}), ('panyulun s', {'Before': 145, 'After': 21168}), ('xuhao s', {'Before': 646, 'After': 81468}), ('lipeng s', {'Before': 120, 'After': 0}), ('peizitong s', {'Before': 479, 'After': 22281}), ('liyanlin s', {'Before': 532, 'After': 81419}), ('zhangweiqi s', {'Before': 360, 'After': 0}), ('hemingxu s', {'Before': 253, 'After': 0}), ('xuziqi s', {'Before': 238, 'After': 22786}), ('weiyitong s', {'Before': 21345, 'After': 0}), ('wangpinhan s', {'Before': 319, 'After': 81205}), ('yuanxinyuan s', {'Before': 287, 'After': 0}), ('xinyupan s', {'Before': 112, 'After': 0}), ('niuhaoya s', {'Before': 245, 'After': 0}), ('bailutong s', {'Before': 233, 'After': 21305}), ('zhaochenlu s', {'Before': 240, 'After': 21216}), ('lijiawenqi s', {'Before': 267, 'After': 22198}), ('liyiyao s', {'Before': 356, 'After': 0}), ('liuyuhan s', {'Before': 22806, 'After': 0}), ('liuzihan s', {'Before': 515, 'After': 81776}), ('duminxuan s', {'Before': 320, 'After': 21387}), ('guozhitong s', {'Before': 410, 'After': 21748}), ('jiayuhui s', {'Before': 334, 'After': 81175}), ('liujiaxin s', {'Before': 295, 'After': 81503}), ('liujinru s', {'Before': 540, 'After': 81595}), ('wangkehan s', {'Before': 417, 'After': 81425}), ('shiyimeng s', {'Before': 330, 'After': 81644}), ('lvjiayue s', {'Before': 507, 'After': 20922}), ('liuyue s', {'Before': 371, 'After': 0}), ('wangkeran s', {'Before': 265, 'After': 85240}), ('lixiling s', {'Before': 744, 'After': 0}), ('shenyiting s', {'Before': 437, 'After': 81573}), ('liujinze s', {'Before': 323, 'After': 83827}), ('baikefei s', {'Before': 225, 'After': 0}), ('mengshuo s', {'Before': 151, 'After': 85138}), ('wangzijian s', {'Before': 360, 'After': 81849}), ('yueliqian s', {'Before': 215, 'After': 0}), ('wuxinzhe s', {'Before': 252, 'After': 86345}), ('qixunhao s', {'Before': 354, 'After': 81635}), ('lixiaoran s', {'Before': 331, 'After': 0}), ('linzixi s', {'Before': 122, 'After': 83607}), ('shijiatong s', {'Before': 163, 'After': 0}), ('yanxinyue s', {'Before': 272, 'After': 82249}), ('wangyuncheng s', {'Before': 386, 'After': 0}), ('xushuyuan s', {'Before': 192, 'After': 82337}), ('zhaoyijie s', {'Before': 313, 'After': 0}), ('jiakexuan s', {'Before': 355, 'After': 82047}), ('yanyifang s', {'Before': 442, 'After': 81927}), ('dingziqi s', {'Before': 253, 'After': 85790}), ('mamengle s', {'Before': 453, 'After': 85317}), ('liuhaozhe s', {'Before': 386, 'After': 0}), ('wuhaoze s', {'Before': 135, 'After': 82694}), ('qianghao s', {'Before': 340, 'After': 85001}), ('gaolu s', {'Before': 258, 'After': 0}), ('linkeyue s', {'Before': 487, 'After': 0}), ('hebingyi s', {'Before': 398, 'After': 81791}), ('wangxinyu s', {'Before': 251, 'After': 85291}), ('xuyuhan s', {'Before': 246, 'After': 0}), ('hezihao s', {'Before': 337, 'After': 82203}), ('xiezhenguo s', {'Before': 132, 'After': 0}), ('fujiaqi s', {'Before': 233, 'After': 0}), ('xuzhanyi s', {'Before': 343, 'After': 0}), ('liyuting s', {'Before': 461, 'After': 81909}), ('guoyafei s', {'Before': 151, 'After': 85427}), ('wanghaoran s', {'Before': 374, 'After': 85401}), ('zhaojintai s', {'Before': 224, 'After': 81901}), ('wangyichao s', {'Before': 368, 'After': 81834}), ('houboyan s', {'Before': 407, 'After': 0}), ('xiaoyuchen s', {'Before': 343, 'After': 81872}), ('lizichun s', {'Before': 294, 'After': 81714}), ('liuyuchen s', {'Before': 79, 'After': 0}), ('jiangyuntong s', {'Before': 363, 'After': 0}), ('songyanfei s', {'Before': 331, 'After': 81966}), ('wangzhongyuan s', {'Before': 798, 'After': 84847}), ('baishianni s', {'Before': 675, 'After': 0}), ('lijingzhe s', {'Before': 256, 'After': 0}), ('wangxiyue s', {'Before': 364, 'After': 84977}), ('wangjiayue s', {'Before': 211, 'After': 81896}), ('liyuchen s', {'Before': 234, 'After': 82342}), ('zhouhongyu s', {'Before': 268, 'After': 0}), ('zhaoxichen s', {'Before': 220, 'After': 0}), ('wangyishuo s', {'Before': 395, 'After': 82019}), ('luaxida s', {'Before': 209, 'After': 82536}), ('donghanze s', {'Before': 201, 'After': 0}), ('qiulucan s', {'Before': 115, 'After': 0})]\n"
     ]
    }
   ],
   "source": [
    "# 1.6.1\n",
    "\n",
    "from datetime import datetime\n",
    "FMT = '%d,%H:%M:%S'\n",
    "\n",
    "def step161(df_161):\n",
    "    duration_list = []\n",
    "    for name in s_names:\n",
    "        df = df_161.loc[df_161['Student Name 1'] == name][['Server Timestamp', 'Teacher Comment']]\n",
    "        # print(df)\n",
    "        time_list = []\n",
    "        if len(df) < 2:\n",
    "            print('<', name, '> has less than 2 entries in [1.6]') \n",
    "            continue\n",
    "        else:\n",
    "            idx_list = df.index\n",
    "            time_list = df['Server Timestamp'][[idx_list[0], idx_list[-1]]].tolist()\n",
    "            duration = {}\n",
    "            day_time = []\n",
    "            for __, entry in df.iterrows():\n",
    "                if str(entry[1]) != 'nan':\n",
    "                    time_list.append(str(entry[0]))\n",
    "                    break        \n",
    "            for time_str in time_list:\n",
    "                time_slice = time_str.split(' ')\n",
    "                #print(time_slice)\n",
    "                day = time_slice[2]\n",
    "                time = time_slice[-2]\n",
    "                day_time.append(str(day) + ',' + str(time))\n",
    "            print(day_time)\n",
    "            duration['Before'] = (datetime.strptime(day_time[-1], FMT) - datetime.strptime(day_time[0], FMT)).seconds\n",
    "            if(len(day_time) > 2):\n",
    "                duration['After'] = (datetime.strptime(day_time[1], FMT) - datetime.strptime(day_time[-1], FMT)).seconds\n",
    "            else:\n",
    "                duration['After'] = -1\n",
    "            duration_list.append((name, duration))\n",
    "    return duration_list\n",
    "\n",
    "\n",
    "s_161 = s_allwork_df.loc[s_allwork_df['Step Title'].str.contains('1.6')]\n",
    "#print(s_df_161.head())\n",
    "print(step161(s_161))"
   ]
  }
 ],
 "metadata": {
  "kernelspec": {
   "display_name": "Python 3.9.10 64-bit",
   "language": "python",
   "name": "python3"
  },
  "language_info": {
   "codemirror_mode": {
    "name": "ipython",
    "version": 3
   },
   "file_extension": ".py",
   "mimetype": "text/x-python",
   "name": "python",
   "nbconvert_exporter": "python",
   "pygments_lexer": "ipython3",
   "version": "3.9.10"
  },
  "orig_nbformat": 4,
  "vscode": {
   "interpreter": {
    "hash": "75273f6ed8af91899ebc591bf6ae2fd0716c5db2515d7097a000123632f4e53a"
   }
  }
 },
 "nbformat": 4,
 "nbformat_minor": 2
}
